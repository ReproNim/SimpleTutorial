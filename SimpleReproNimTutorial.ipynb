{
 "cells": [
  {
   "cell_type": "markdown",
   "metadata": {},
   "source": [
    "# Welcome to the Simple ReproNim Tutorial"
   ]
  },
  {
   "cell_type": "markdown",
   "metadata": {},
   "source": [
    "In this tutorial we will do some simple, yet powerful things. Once you see what can be accomplished, we can look more closely at how this is done, and how you, too, can do it!"
   ]
  },
  {
   "cell_type": "markdown",
   "metadata": {},
   "source": [
    "### Get some data...\n",
    "First, lets get a publically available dataset.  How about the structural T1-weighted scan from subject 01 of the OpenNeuro dataset DS000114"
   ]
  },
  {
   "cell_type": "code",
   "execution_count": 5,
   "metadata": {},
   "outputs": [
    {
     "name": "stdout",
     "output_type": "stream",
     "text": [
      "\u001b[1;1minstall\u001b[0m(\u001b[1;32mnotneeded\u001b[0m): /Users/davidkennedy/Projects/ReproNim/SimpleTutorial/ds000114 (\u001b[1;35mdataset\u001b[0m) [dataset <Dataset path=/Users/davidkennedy/Projects/ReproNim/SimpleTutorial/ds000114> was already cloned from 'http://datasets.datalad.org/openfmri/ds000114']\n",
      "Total:   0%|                                        | 0.00/8.68M [00:00<?, ?B/s]\n",
      "Total:  55%|█████████████████              | 4.76M/8.68M [00:01<00:00, 4.29MB/s]\u001b[A\n",
      "Total:  99%|██████████████████████████████▌| 8.57M/8.68M [00:01<00:00, 4.93MB/s]\u001b[A\n",
      "Total (1 ok out of 1): 100%|███████████████| 8.68M/8.68M [00:01<00:00, 4.93MB/s]\u001b[A\n",
      "\u001b[1;1mget\u001b[0m(\u001b[1;32mok\u001b[0m): /Users/davidkennedy/Projects/ReproNim/SimpleTutorial/ds000114/sub-01/ses-test/anat/sub-01_ses-test_T1w.nii.gz (\u001b[1;35mfile\u001b[0m)\n",
      "\u001b[0m"
     ]
    }
   ],
   "source": [
    "! datalad install ///openfmri/ds000114\n",
    "! cd ds000114\n",
    "! datalad get ds000114/sub-01/ses-test/anat/sub-01_ses-test_T1w.nii.gz"
   ]
  },
  {
   "cell_type": "markdown",
   "metadata": {},
   "source": [
    "Let's view that image, just to be sure we it..."
   ]
  },
  {
   "cell_type": "code",
   "execution_count": 6,
   "metadata": {
    "collapsed": true
   },
   "outputs": [],
   "source": [
    "! fslview ds000114/sub-01/ses-test/anat/sub-01_ses-test_T1w.nii.gz"
   ]
  },
  {
   "cell_type": "markdown",
   "metadata": {},
   "source": [
    "Cool.  Now a question, \"How old is this subject?\"\n",
    "If this were just the \\*.nii.gz on it's own, you really wouldn't know, unless the original source of the data gave you some more information. In this case, this image happens to come from a dataset that is represented using BIDS. So, we should be able to look at the 'participants.tsv' in the top level of the BIDS directory."
   ]
  },
  {
   "cell_type": "code",
   "execution_count": 11,
   "metadata": {},
   "outputs": [
    {
     "name": "stdout",
     "output_type": "stream",
     "text": [
      "{[?1h\u001b=\n",
      "    \"BIDSVersion\": \"1.0.0rc2\",\n",
      "    \"Name\": \"ds114\",\n",
      "    \"Authors\": [\"Gorgolewski KJ\", \"Storkey A\", \"Bastin ME\", \"Whittle IR\", \"Wardlaw JM\", \"Pernet CR\"],\n",
      "    \"ReferencesAndLinks\": \"A test-retest fMRI dataset for motor, language and spatial attention functions, http://www.ncbi.nlm.nih.gov/pmc/articles/PMC3641991/\"\n",
      "}\n",
      "\u001b[K\u001b[?1l\u001b>/bin/sh: ds000114/participants.tsv: No such file or directory\n"
     ]
    }
   ],
   "source": [
    "! more ds000114/dataset_description.json\n",
    "! ds000114/participants.tsv"
   ]
  },
  {
   "cell_type": "markdown",
   "metadata": {},
   "source": [
    "Ah, bummer, this dataset dosen't seem to have participants information, making it hard to know much about these subjects :-("
   ]
  },
  {
   "cell_type": "markdown",
   "metadata": {},
   "source": [
    "### Do something to the data\n",
    "OK, we have an image, lets do something simple, FSL's Brain Extraction Tool (BET).\n",
    "\n",
    "We could do it this way:"
   ]
  },
  {
   "cell_type": "code",
   "execution_count": 13,
   "metadata": {},
   "outputs": [
    {
     "name": "stdout",
     "output_type": "stream",
     "text": [
      "IN=ds000114/sub-01/ses-test/anat/sub-01_ses-test_T1w\n",
      "OUT=brain\n",
      "bet2opts= -m -v\n",
      "verbose=1\n",
      "debug=0\n",
      "variation=1\n",
      "min 0 thresh2 0 thresh 97.8208 thresh98 978.208 max 2779\n",
      "c-of-g 130.342 87.916 134.215 mm\n",
      "radius 90.7149 mm\n",
      "median within-brain intensity 310\n",
      "self-intersection total 4956.23 (threshold=4000.0) \n",
      "thus will rerun with higher smoothness constraint\n",
      "self-intersection total 334.509 (threshold=4000.0) \n",
      "min 0 thresh2 0 thresh 97.8208 thresh98 978.208 max 2779\n",
      "c-of-g 133.735 89.1037 149.432 mm\n",
      "radius 90.7149 mm\n",
      "median within-brain intensity 284\n",
      "self-intersection total 276.903 (threshold=4000.0) \n",
      "min 0 thresh2 0 thresh 97.8208 thresh98 978.208 max 2779\n",
      "c-of-g 134.303 88.3675 150.506 mm\n",
      "radius 90.7149 mm\n",
      "median within-brain intensity 281\n",
      "self-intersection total 268.446 (threshold=4000.0) \n"
     ]
    }
   ],
   "source": [
    "! bet ds000114/sub-01/ses-test/anat/sub-01_ses-test_T1w.nii.gz brain -R -m -v"
   ]
  },
  {
   "cell_type": "markdown",
   "metadata": {},
   "source": [
    "Lets have a look:"
   ]
  },
  {
   "cell_type": "code",
   "execution_count": 14,
   "metadata": {
    "collapsed": true
   },
   "outputs": [],
   "source": [
    "! fslview ds000114/sub-01/ses-test/anat/sub-01_ses-test_T1w.nii.gz brain_mask.nii.gz"
   ]
  },
  {
   "cell_type": "markdown",
   "metadata": {},
   "source": [
    "Hmmm, not so good...  In many cases, now you would tweek the 'f' and 'g' values until it looked better (and hope you remembered the settings...).\n",
    "\n",
    "An alternative to the above is to run:"
   ]
  },
  {
   "cell_type": "code",
   "execution_count": null,
   "metadata": {
    "collapsed": true
   },
   "outputs": [],
   "source": [
    "datalad run ds000114/sub-01/ses-test/anat/sub-01_ses-test_T1w.nii.gz brain_mask.nii.gz"
   ]
  }
 ],
 "metadata": {
  "kernelspec": {
   "display_name": "Python 3",
   "language": "python",
   "name": "python3"
  },
  "language_info": {
   "codemirror_mode": {
    "name": "ipython",
    "version": 3
   },
   "file_extension": ".py",
   "mimetype": "text/x-python",
   "name": "python",
   "nbconvert_exporter": "python",
   "pygments_lexer": "ipython3",
   "version": "3.6.6"
  }
 },
 "nbformat": 4,
 "nbformat_minor": 2
}
